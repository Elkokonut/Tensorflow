{
  "nbformat": 4,
  "nbformat_minor": 0,
  "metadata": {
    "colab": {
      "name": "Tp- Cifar.ipynb",
      "provenance": [],
      "include_colab_link": true
    },
    "kernelspec": {
      "name": "python3",
      "display_name": "Python 3"
    }
  },
  "cells": [
    {
      "cell_type": "markdown",
      "metadata": {
        "id": "view-in-github",
        "colab_type": "text"
      },
      "source": [
        "<a href=\"https://colab.research.google.com/github/Elkokonut/Tensorflow/blob/master/Tp_Cifar.ipynb\" target=\"_parent\"><img src=\"https://colab.research.google.com/assets/colab-badge.svg\" alt=\"Open In Colab\"/></a>"
      ]
    },
    {
      "cell_type": "markdown",
      "metadata": {
        "id": "Rawhuh8xHLcJ",
        "colab_type": "text"
      },
      "source": [
        "Post-Workshop Feedback Survey\n",
        "\n",
        "https://docs.google.com/forms/d/e/1FAIpQLScMweRRMWc7-_Cpz92HgcdcyfbLQugEqgkiY24DrA_tJvtEcg/viewform"
      ]
    },
    {
      "cell_type": "code",
      "metadata": {
        "id": "8E7eAsGi-yCQ",
        "colab_type": "code",
        "colab": {}
      },
      "source": [
        "import numpy as np\n",
        "import tensorflow as tf"
      ],
      "execution_count": 0,
      "outputs": []
    },
    {
      "cell_type": "markdown",
      "metadata": {
        "id": "8qKIi5Dpcsi4",
        "colab_type": "text"
      },
      "source": [
        "Load cifar10 dataset"
      ]
    },
    {
      "cell_type": "code",
      "metadata": {
        "id": "o4XkQrHm-6iD",
        "colab_type": "code",
        "colab": {}
      },
      "source": [
        "(x_train, y_train), (x_test, y_test) = tf.keras.datasets.cifar10.load_data()"
      ],
      "execution_count": 0,
      "outputs": []
    },
    {
      "cell_type": "markdown",
      "metadata": {
        "id": "wxRvT0ndc4e5",
        "colab_type": "text"
      },
      "source": [
        "In the training set x_train, there are 50 000 images of 32 * 32 pixels \n",
        "with 3 channels for red/green/blue.\n",
        "\n",
        "y_train has the labels of the training set\n",
        "\n",
        "0 -> Airplaine\n",
        "\n",
        "1 -> Automobile\n",
        "\n",
        "2 -> Bird\n",
        "\n",
        "3 -> Cat\n",
        "\n",
        "4 -> Deer\n",
        "\n",
        "5 -> Dog\n",
        "\n",
        "6 -> Frog\n",
        "\n",
        "7 -> Horse\n",
        "\n",
        "8 -> Ship\n",
        "\n",
        "9 -> Truck"
      ]
    },
    {
      "cell_type": "code",
      "metadata": {
        "id": "kBfHC4e__JhB",
        "colab_type": "code",
        "colab": {}
      },
      "source": [
        "print(x_train.shape)\n",
        "print(y_train.shape)"
      ],
      "execution_count": 0,
      "outputs": []
    },
    {
      "cell_type": "markdown",
      "metadata": {
        "id": "m9gxF-IOdKwt",
        "colab_type": "text"
      },
      "source": [
        "Display the fourth image that is an Automobile"
      ]
    },
    {
      "cell_type": "code",
      "metadata": {
        "id": "x5p0sJov_NFy",
        "colab_type": "code",
        "colab": {}
      },
      "source": [
        "import matplotlib.pyplot as plt\n",
        "\n",
        "print(y_train[4])\n",
        "\n",
        "plt.figure(figsize = (2, 2))\n",
        "plt.imshow(x_train[4], interpolation='nearest')"
      ],
      "execution_count": 0,
      "outputs": []
    },
    {
      "cell_type": "markdown",
      "metadata": {
        "id": "vgTbRWqzds56",
        "colab_type": "text"
      },
      "source": [
        "In machine learning, it is not mandadory to normalized the data, however, it makes the training faster.\n",
        "\n",
        "There are differents way to normalize, you could just divide\n",
        "all the value by 255, or substract the value by the mean and divide by the standard deviation."
      ]
    },
    {
      "cell_type": "code",
      "metadata": {
        "id": "m0UB9QwBf-Io",
        "colab_type": "code",
        "colab": {}
      },
      "source": [
        "#x_train = "
      ],
      "execution_count": 0,
      "outputs": []
    },
    {
      "cell_type": "markdown",
      "metadata": {
        "id": "Atw9wjIrt1o4",
        "colab_type": "text"
      },
      "source": [
        "To get the best weight when trainning, you can use callbacks. I would recommand to use ModelCheckpoint which allow the neural network to save the weight with the best validation accuracy, but you can use other"
      ]
    },
    {
      "cell_type": "code",
      "metadata": {
        "id": "DKLWAeCDuNcG",
        "colab_type": "code",
        "colab": {}
      },
      "source": [
        "from keras.callbacks import ModelCheckpoint"
      ],
      "execution_count": 0,
      "outputs": []
    },
    {
      "cell_type": "markdown",
      "metadata": {
        "id": "HhtYgSLVgCNp",
        "colab_type": "text"
      },
      "source": [
        "To improve the model of the neural network, you can try to add somes \n",
        "layers or some neurons.\n",
        "Convolutional network tends be better for images so it can be a good idea\n",
        "to add convolution layers (you can have a look to Conv2D).\n"
      ]
    },
    {
      "cell_type": "code",
      "metadata": {
        "id": "p_o9ebfGEBNp",
        "colab_type": "code",
        "colab": {}
      },
      "source": [
        "from keras.layers import BatchNormalization, Conv2D, Input, Dense, Flatten, Reshape \n",
        "from keras.models import Model\n",
        "from keras.optimizers import Adam\n",
        "\n",
        "inputs = Input(shape=x_train.shape[1:])\n",
        "\n",
        "x = Flatten()(inputs)\n",
        "x = Dense(64, activation='relu')(x)\n",
        "x = BatchNormalization()(x)\n",
        "\n",
        "x = Reshape((8, 8, 1))(x)\n",
        "conv = Conv2D(32, kernel_size=3, padding='same', activation='sigmoid')(x)\n",
        "conv = Flatten()(conv)\n",
        "\n",
        "outputs = Dense(np.max(y_train) + 1, activation='softmax')(conv)\n",
        "\n",
        "model = Model(inputs=inputs, outputs=outputs)"
      ],
      "execution_count": 0,
      "outputs": []
    },
    {
      "cell_type": "code",
      "metadata": {
        "id": "myg7Ls_fDTT3",
        "colab_type": "code",
        "colab": {}
      },
      "source": [
        "model.compile(loss='sparse_categorical_crossentropy',\n",
        "              optimizer=Adam(lr=0.001), # lr for learning rate\n",
        "              metrics=['accuracy'])"
      ],
      "execution_count": 0,
      "outputs": []
    },
    {
      "cell_type": "code",
      "metadata": {
        "id": "EYXXZFC0GcdA",
        "colab_type": "code",
        "colab": {}
      },
      "source": [
        "model.summary()"
      ],
      "execution_count": 0,
      "outputs": []
    },
    {
      "cell_type": "code",
      "metadata": {
        "id": "L0Rjl-aHlptD",
        "colab_type": "code",
        "colab": {}
      },
      "source": [
        "validation_split = 0.2 # Train with 80% of the data and validate in 20%\n",
        "epochs = 10            # Number of times the neural network will train with all the data\n",
        "batch_size = 32"
      ],
      "execution_count": 0,
      "outputs": []
    },
    {
      "cell_type": "code",
      "metadata": {
        "id": "6fp8PwUxD_u0",
        "colab_type": "code",
        "colab": {}
      },
      "source": [
        "history = model.fit(x_train, y_train, validation_split=validation_split, epochs=epochs,\n",
        "          batch_size=batch_size)"
      ],
      "execution_count": 0,
      "outputs": []
    },
    {
      "cell_type": "markdown",
      "metadata": {
        "id": "dAkXWndOlHX4",
        "colab_type": "text"
      },
      "source": [
        "To improve the dataset, you can generate images with ImageDataGenerator"
      ]
    },
    {
      "cell_type": "code",
      "metadata": {
        "id": "ikdPkf4LlBhY",
        "colab_type": "code",
        "colab": {}
      },
      "source": [
        "from keras.preprocessing.image import ImageDataGenerator\n",
        "\n",
        "datagen = ImageDataGenerator(horizontal_flip=True) # you can look to more generations rotation"
      ],
      "execution_count": 0,
      "outputs": []
    },
    {
      "cell_type": "code",
      "metadata": {
        "id": "vjEng6g8lT3G",
        "colab_type": "code",
        "colab": {}
      },
      "source": [
        "history = model.fit_generator(datagen.flow(x_train, y_train, batch_size=batch_size),\n",
        "                    steps_per_epoch=len(x_train) / batch_size, epochs=epochs)"
      ],
      "execution_count": 0,
      "outputs": []
    },
    {
      "cell_type": "markdown",
      "metadata": {
        "id": "6zbUuPYKthAY",
        "colab_type": "text"
      },
      "source": [
        "Plot training & validation accuracy values"
      ]
    },
    {
      "cell_type": "code",
      "metadata": {
        "id": "RTwmO4CSteU1",
        "colab_type": "code",
        "colab": {}
      },
      "source": [
        "plt.plot(history.history['acc'])\n",
        "plt.plot(history.history['val_acc'])\n",
        "plt.title('Model accuracy')\n",
        "plt.ylabel('Accuracy')\n",
        "plt.xlabel('Epoch')\n",
        "plt.legend(['Train', 'Test'], loc='upper left')\n",
        "plt.show()"
      ],
      "execution_count": 0,
      "outputs": []
    },
    {
      "cell_type": "markdown",
      "metadata": {
        "id": "xLPWspAHgPpt",
        "colab_type": "text"
      },
      "source": [
        "Evaluate the performance of the neural network"
      ]
    },
    {
      "cell_type": "code",
      "metadata": {
        "id": "2vYfgyHiGPFO",
        "colab_type": "code",
        "colab": {}
      },
      "source": [
        "model.evaluate(x_test, y_test)"
      ],
      "execution_count": 0,
      "outputs": []
    }
  ]
}